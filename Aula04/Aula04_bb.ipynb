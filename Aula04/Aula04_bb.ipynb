{
 "cells": [
  {
   "cell_type": "code",
   "execution_count": 23,
   "id": "7e83abb4-5a38-4884-bd22-c5a1bf42b28d",
   "metadata": {},
   "outputs": [],
   "source": [
    "# assinatura\n",
    "def busca_binaria (v, lista_ord):\n",
    "    # inicializar as variáveis\n",
    "    esquerda = 0\n",
    "    direita = len(lista_ord)-1              \n",
    "    # loop de repetição\n",
    "    while esquerda <= direita: \n",
    "        # verificações\n",
    "        meio = (esquerda + direita) // 2\n",
    "        if lista_ord[meio] == v:\n",
    "            return meio\n",
    "        elif v < lista_ord[meio]:\n",
    "            direita = meio-1\n",
    "        else:\n",
    "            esquerda = meio+1\n",
    "    # caso não encontrado, retornar -1\n",
    "    return -1"
   ]
  },
  {
   "cell_type": "code",
   "execution_count": 27,
   "id": "2c7d9011-b8ac-40d0-a077-69fd924eee25",
   "metadata": {},
   "outputs": [
    {
     "name": "stdin",
     "output_type": "stream",
     "text": [
      "Digite um valor para verificar sua posição na lista caso exista:  65\n"
     ]
    },
    {
     "name": "stdout",
     "output_type": "stream",
     "text": [
      "O valor 65 existe na lista e está na posição 5\n"
     ]
    }
   ],
   "source": [
    "l = [1, 3, 6, 12, 36, 65]\n",
    "v = int(input(\"Digite um valor para verificar sua posição na lista caso exista: \"))\n",
    "i = busca_binaria(v, l)\n",
    "if i == -1:\n",
    "    print(\"O valor não existe na lista!\")\n",
    "else:\n",
    "    print(f\"O valor {v} existe na lista e está na posição {i}\")"
   ]
  },
  {
   "cell_type": "code",
   "execution_count": null,
   "id": "7dcc2322-3980-4deb-b16d-c3ef64f84add",
   "metadata": {},
   "outputs": [],
   "source": []
  }
 ],
 "metadata": {
  "kernelspec": {
   "display_name": "Python 3 (ipykernel)",
   "language": "python",
   "name": "python3"
  },
  "language_info": {
   "codemirror_mode": {
    "name": "ipython",
    "version": 3
   },
   "file_extension": ".py",
   "mimetype": "text/x-python",
   "name": "python",
   "nbconvert_exporter": "python",
   "pygments_lexer": "ipython3",
   "version": "3.12.4"
  }
 },
 "nbformat": 4,
 "nbformat_minor": 5
}
